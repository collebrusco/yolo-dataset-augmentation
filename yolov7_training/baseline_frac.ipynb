{
  "nbformat": 4,
  "nbformat_minor": 0,
  "metadata": {
    "colab": {
      "provenance": [],
      "gpuType": "A100"
    },
    "kernelspec": {
      "name": "python3",
      "display_name": "Python 3"
    },
    "language_info": {
      "name": "python"
    },
    "accelerator": "GPU"
  },
  "cells": [
    {
      "cell_type": "code",
      "execution_count": null,
      "metadata": {
        "id": "ox1VQrqcXm0n"
      },
      "outputs": [],
      "source": [
        "!mkdir ./training\n",
        "!unzip ./drive/MyDrive/colab_data/Archive.zip -d ./training"
      ]
    },
    {
      "cell_type": "code",
      "source": [
        "import argparse\n",
        "import logging\n",
        "import math\n",
        "import os\n",
        "import random\n",
        "import time\n",
        "from copy import deepcopy\n",
        "from pathlib import Path\n",
        "from threading import Thread\n",
        "\n",
        "import numpy as np\n",
        "import torch.distributed as dist\n",
        "import torch.nn as nn\n",
        "import torch.nn.functional as F\n",
        "import torch.optim as optim\n",
        "import torch.optim.lr_scheduler as lr_scheduler\n",
        "import torch.utils.data\n",
        "import yaml\n",
        "from torch.cuda import amp\n",
        "from torch.nn.parallel import DistributedDataParallel as DDP\n",
        "from torch.utils.tensorboard import SummaryWriter\n",
        "from tqdm import tqdm\n",
        "os.chdir('/content/training/yolov7/')\n",
        "\n",
        "import ttest as test  # import test.py to get mAP after each epoch\n",
        "from models.experimental import attempt_load\n",
        "from models.yolo import Model\n",
        "from utils.autoanchor import check_anchors\n",
        "from utils.datasets import create_dataloader\n",
        "from utils.general import labels_to_class_weights, increment_path, labels_to_image_weights, init_seeds, \\\n",
        "    fitness, strip_optimizer, get_latest_run, check_dataset, check_file, check_git_status, check_img_size, \\\n",
        "    check_requirements, print_mutation, set_logging, one_cycle, colorstr\n",
        "from utils.google_utils import attempt_download\n",
        "from utils.loss import ComputeLoss, ComputeLossAuxOTA\n",
        "from utils.plots import plot_images, plot_labels, plot_results, plot_evolution\n",
        "from utils.torch_utils import ModelEMA, select_device, intersect_dicts, torch_distributed_zero_first, is_parallel\n",
        "from utils.wandb_logging.wandb_utils import WandbLogger, check_wandb_resume\n",
        "\n",
        "logger = logging.getLogger(__name__)\n",
        "\n",
        "\n",
        "def train(hyp, opt, device, tb_writer=None):\n",
        "    logger.info(colorstr('hyperparameters: ') + ', '.join(f'{k}={v}' for k, v in hyp.items()))\n",
        "    save_dir, epochs, batch_size, total_batch_size, weights, rank = \\\n",
        "        Path(opt.save_dir), opt.epochs, opt.batch_size, opt.total_batch_size, opt.weights, opt.global_rank\n",
        "\n",
        "    # Directories\n",
        "    wdir = save_dir / 'weights'\n",
        "    wdir.mkdir(parents=True, exist_ok=True)  # make dir\n",
        "    last = wdir / 'last.pt'\n",
        "    best = wdir / 'best.pt'\n",
        "    results_file = save_dir / 'results.txt'\n",
        "\n",
        "    # Save run settings\n",
        "    with open(save_dir / 'hyp.yaml', 'w') as f:\n",
        "        yaml.dump(hyp, f, sort_keys=False)\n",
        "    with open(save_dir / 'opt.yaml', 'w') as f:\n",
        "        yaml.dump(vars(opt), f, sort_keys=False)\n",
        "\n",
        "    # Configure\n",
        "    plots = not opt.evolve  # create plots\n",
        "    cuda = device.type != 'cpu'\n",
        "    init_seeds(2 + rank)\n",
        "    with open(opt.data) as f:\n",
        "        data_dict = yaml.load(f, Loader=yaml.SafeLoader)  # data dict\n",
        "    is_coco = opt.data.endswith('coco.yaml')\n",
        "\n",
        "    # Logging- Doing this before checking the dataset. Might update data_dict\n",
        "    loggers = {'wandb': None}  # loggers dict\n",
        "    if rank in [-1, 0]:\n",
        "        opt.hyp = hyp  # add hyperparameters\n",
        "        run_id = torch.load(weights).get('wandb_id') if weights.endswith('.pt') and os.path.isfile(weights) else None\n",
        "        wandb_logger = WandbLogger(opt, Path(opt.save_dir).stem, run_id, data_dict)\n",
        "        loggers['wandb'] = wandb_logger.wandb\n",
        "        data_dict = wandb_logger.data_dict\n",
        "        if wandb_logger.wandb:\n",
        "            weights, epochs, hyp = opt.weights, opt.epochs, opt.hyp  # WandbLogger might update weights, epochs if resuming\n",
        "\n",
        "    nc = 1 if opt.single_cls else int(data_dict['nc'])  # number of classes\n",
        "    names = ['item'] if opt.single_cls and len(data_dict['names']) != 1 else data_dict['names']  # class names\n",
        "    assert len(names) == nc, '%g names found for nc=%g dataset in %s' % (len(names), nc, opt.data)  # check\n",
        "\n",
        "    # Model\n",
        "    pretrained = weights.endswith('.pt')\n",
        "    if pretrained:\n",
        "        with torch_distributed_zero_first(rank):\n",
        "            attempt_download(weights)  # download if not found locally\n",
        "        ckpt = torch.load(weights, map_location=device)  # load checkpoint\n",
        "        model = Model(opt.cfg or ckpt['model'].yaml, ch=3, nc=nc, anchors=hyp.get('anchors')).to(device)  # create\n",
        "        exclude = ['anchor'] if (opt.cfg or hyp.get('anchors')) and not opt.resume else []  # exclude keys\n",
        "        state_dict = ckpt['model'].float().state_dict()  # to FP32\n",
        "        state_dict = intersect_dicts(state_dict, model.state_dict(), exclude=exclude)  # intersect\n",
        "        model.load_state_dict(state_dict, strict=False)  # load\n",
        "        logger.info('Transferred %g/%g items from %s' % (len(state_dict), len(model.state_dict()), weights))  # report\n",
        "    else:\n",
        "        model = Model(opt.cfg, ch=3, nc=nc, anchors=hyp.get('anchors')).to(device)  # create\n",
        "    with torch_distributed_zero_first(rank):\n",
        "        check_dataset(data_dict)  # check\n",
        "    train_path = data_dict['train']\n",
        "    test_path = data_dict['val']\n",
        "\n",
        "    # Freeze\n",
        "    freeze = []  # parameter names to freeze (full or partial)\n",
        "    for k, v in model.named_parameters():\n",
        "        v.requires_grad = True  # train all layers\n",
        "        if any(x in k for x in freeze):\n",
        "            print('freezing %s' % k)\n",
        "            v.requires_grad = False\n",
        "\n",
        "    # Optimizer\n",
        "    nbs = 64  # nominal batch size\n",
        "    accumulate = max(round(nbs / total_batch_size), 1)  # accumulate loss before optimizing\n",
        "    hyp['weight_decay'] *= total_batch_size * accumulate / nbs  # scale weight_decay\n",
        "    logger.info(f\"Scaled weight_decay = {hyp['weight_decay']}\")\n",
        "\n",
        "    pg0, pg1, pg2 = [], [], []  # optimizer parameter groups\n",
        "    for k, v in model.named_modules():\n",
        "        if hasattr(v, 'bias') and isinstance(v.bias, nn.Parameter):\n",
        "            pg2.append(v.bias)  # biases\n",
        "        if isinstance(v, nn.BatchNorm2d):\n",
        "            pg0.append(v.weight)  # no decay\n",
        "        elif hasattr(v, 'weight') and isinstance(v.weight, nn.Parameter):\n",
        "            pg1.append(v.weight)  # apply decay\n",
        "        if hasattr(v, 'im'):\n",
        "            if hasattr(v.im, 'implicit'):\n",
        "                pg0.append(v.im.implicit)\n",
        "            else:\n",
        "                for iv in v.im:\n",
        "                    pg0.append(iv.implicit)\n",
        "        if hasattr(v, 'imc'):\n",
        "            if hasattr(v.imc, 'implicit'):\n",
        "                pg0.append(v.imc.implicit)\n",
        "            else:\n",
        "                for iv in v.imc:\n",
        "                    pg0.append(iv.implicit)\n",
        "        if hasattr(v, 'imb'):\n",
        "            if hasattr(v.imb, 'implicit'):\n",
        "                pg0.append(v.imb.implicit)\n",
        "            else:\n",
        "                for iv in v.imb:\n",
        "                    pg0.append(iv.implicit)\n",
        "        if hasattr(v, 'imo'):\n",
        "            if hasattr(v.imo, 'implicit'):\n",
        "                pg0.append(v.imo.implicit)\n",
        "            else:\n",
        "                for iv in v.imo:\n",
        "                    pg0.append(iv.implicit)\n",
        "        if hasattr(v, 'ia'):\n",
        "            if hasattr(v.ia, 'implicit'):\n",
        "                pg0.append(v.ia.implicit)\n",
        "            else:\n",
        "                for iv in v.ia:\n",
        "                    pg0.append(iv.implicit)\n",
        "        if hasattr(v, 'attn'):\n",
        "            if hasattr(v.attn, 'logit_scale'):\n",
        "                pg0.append(v.attn.logit_scale)\n",
        "            if hasattr(v.attn, 'q_bias'):\n",
        "                pg0.append(v.attn.q_bias)\n",
        "            if hasattr(v.attn, 'v_bias'):\n",
        "                pg0.append(v.attn.v_bias)\n",
        "            if hasattr(v.attn, 'relative_position_bias_table'):\n",
        "                pg0.append(v.attn.relative_position_bias_table)\n",
        "        if hasattr(v, 'rbr_dense'):\n",
        "            if hasattr(v.rbr_dense, 'weight_rbr_origin'):\n",
        "                pg0.append(v.rbr_dense.weight_rbr_origin)\n",
        "            if hasattr(v.rbr_dense, 'weight_rbr_avg_conv'):\n",
        "                pg0.append(v.rbr_dense.weight_rbr_avg_conv)\n",
        "            if hasattr(v.rbr_dense, 'weight_rbr_pfir_conv'):\n",
        "                pg0.append(v.rbr_dense.weight_rbr_pfir_conv)\n",
        "            if hasattr(v.rbr_dense, 'weight_rbr_1x1_kxk_idconv1'):\n",
        "                pg0.append(v.rbr_dense.weight_rbr_1x1_kxk_idconv1)\n",
        "            if hasattr(v.rbr_dense, 'weight_rbr_1x1_kxk_conv2'):\n",
        "                pg0.append(v.rbr_dense.weight_rbr_1x1_kxk_conv2)\n",
        "            if hasattr(v.rbr_dense, 'weight_rbr_gconv_dw'):\n",
        "                pg0.append(v.rbr_dense.weight_rbr_gconv_dw)\n",
        "            if hasattr(v.rbr_dense, 'weight_rbr_gconv_pw'):\n",
        "                pg0.append(v.rbr_dense.weight_rbr_gconv_pw)\n",
        "            if hasattr(v.rbr_dense, 'vector'):\n",
        "                pg0.append(v.rbr_dense.vector)\n",
        "\n",
        "    if opt.adam:\n",
        "        optimizer = optim.Adam(pg0, lr=hyp['lr0'], betas=(hyp['momentum'], 0.999))  # adjust beta1 to momentum\n",
        "    else:\n",
        "        optimizer = optim.SGD(pg0, lr=hyp['lr0'], momentum=hyp['momentum'], nesterov=True)\n",
        "\n",
        "    optimizer.add_param_group({'params': pg1, 'weight_decay': hyp['weight_decay']})  # add pg1 with weight_decay\n",
        "    optimizer.add_param_group({'params': pg2})  # add pg2 (biases)\n",
        "    logger.info('Optimizer groups: %g .bias, %g conv.weight, %g other' % (len(pg2), len(pg1), len(pg0)))\n",
        "    del pg0, pg1, pg2\n",
        "\n",
        "    # Scheduler https://arxiv.org/pdf/1812.01187.pdf\n",
        "    # https://pytorch.org/docs/stable/_modules/torch/optim/lr_scheduler.html#OneCycleLR\n",
        "    if opt.linear_lr:\n",
        "        lf = lambda x: (1 - x / (epochs - 1)) * (1.0 - hyp['lrf']) + hyp['lrf']  # linear\n",
        "    else:\n",
        "        lf = one_cycle(1, hyp['lrf'], epochs)  # cosine 1->hyp['lrf']\n",
        "    scheduler = lr_scheduler.LambdaLR(optimizer, lr_lambda=lf)\n",
        "    # plot_lr_scheduler(optimizer, scheduler, epochs)\n",
        "\n",
        "    # EMA\n",
        "    ema = ModelEMA(model) if rank in [-1, 0] else None\n",
        "\n",
        "    # Resume\n",
        "    start_epoch, best_fitness = 0, 0.0\n",
        "    if pretrained:\n",
        "        # Optimizer\n",
        "        if ckpt['optimizer'] is not None:\n",
        "            optimizer.load_state_dict(ckpt['optimizer'])\n",
        "            best_fitness = ckpt['best_fitness']\n",
        "\n",
        "        # EMA\n",
        "        if ema and ckpt.get('ema'):\n",
        "            ema.ema.load_state_dict(ckpt['ema'].float().state_dict())\n",
        "            ema.updates = ckpt['updates']\n",
        "\n",
        "        # Results\n",
        "        if ckpt.get('training_results') is not None:\n",
        "            results_file.write_text(ckpt['training_results'])  # write results.txt\n",
        "\n",
        "        # Epochs\n",
        "        start_epoch = ckpt['epoch'] + 1\n",
        "        if opt.resume:\n",
        "            assert start_epoch > 0, '%s training to %g epochs is finished, nothing to resume.' % (weights, epochs)\n",
        "        if epochs < start_epoch:\n",
        "            logger.info('%s has been trained for %g epochs. Fine-tuning for %g additional epochs.' %\n",
        "                        (weights, ckpt['epoch'], epochs))\n",
        "            epochs += ckpt['epoch']  # finetune additional epochs\n",
        "\n",
        "        del ckpt, state_dict\n",
        "\n",
        "    # Image sizes\n",
        "    gs = max(int(model.stride.max()), 32)  # grid size (max stride)\n",
        "    nl = model.model[-1].nl  # number of detection layers (used for scaling hyp['obj'])\n",
        "    imgsz, imgsz_test = [check_img_size(x, gs) for x in opt.img_size]  # verify imgsz are gs-multiples\n",
        "\n",
        "    # DP mode\n",
        "    if cuda and rank == -1 and torch.cuda.device_count() > 1:\n",
        "        model = torch.nn.DataParallel(model)\n",
        "\n",
        "    # SyncBatchNorm\n",
        "    if opt.sync_bn and cuda and rank != -1:\n",
        "        model = torch.nn.SyncBatchNorm.convert_sync_batchnorm(model).to(device)\n",
        "        logger.info('Using SyncBatchNorm()')\n",
        "\n",
        "    # Trainloader\n",
        "    dataloader, dataset = create_dataloader(train_path, imgsz, batch_size, gs, opt,\n",
        "                                            hyp=hyp, augment=True, cache=opt.cache_images, rect=opt.rect, rank=rank,\n",
        "                                            world_size=opt.world_size, workers=opt.workers,\n",
        "                                            image_weights=opt.image_weights, quad=opt.quad, prefix=colorstr('train: '))\n",
        "    mlc = np.concatenate(dataset.labels, 0)[:, 0].max()  # max label class\n",
        "    nb = len(dataloader)  # number of batches\n",
        "    assert mlc < nc, 'Label class %g exceeds nc=%g in %s. Possible class labels are 0-%g' % (mlc, nc, opt.data, nc - 1)\n",
        "\n",
        "    # Process 0\n",
        "    if rank in [-1, 0]:\n",
        "        testloader = create_dataloader(test_path, imgsz_test, batch_size * 2, gs, opt,  # testloader\n",
        "                                       hyp=hyp, cache=opt.cache_images and not opt.notest, rect=True, rank=-1,\n",
        "                                       world_size=opt.world_size, workers=opt.workers,\n",
        "                                       pad=0.5, prefix=colorstr('val: '))[0]\n",
        "\n",
        "        if not opt.resume:\n",
        "            labels = np.concatenate(dataset.labels, 0)\n",
        "            c = torch.tensor(labels[:, 0])  # classes\n",
        "            # cf = torch.bincount(c.long(), minlength=nc) + 1.  # frequency\n",
        "            # model._initialize_biases(cf.to(device))\n",
        "            if plots:\n",
        "                #plot_labels(labels, names, save_dir, loggers)\n",
        "                if tb_writer:\n",
        "                    tb_writer.add_histogram('classes', c, 0)\n",
        "\n",
        "            # Anchors\n",
        "            if not opt.noautoanchor:\n",
        "                check_anchors(dataset, model=model, thr=hyp['anchor_t'], imgsz=imgsz)\n",
        "            model.half().float()  # pre-reduce anchor precision\n",
        "\n",
        "    # DDP mode\n",
        "    if cuda and rank != -1:\n",
        "        model = DDP(model, device_ids=[opt.local_rank], output_device=opt.local_rank,\n",
        "                    # nn.MultiheadAttention incompatibility with DDP https://github.com/pytorch/pytorch/issues/26698\n",
        "                    find_unused_parameters=any(isinstance(layer, nn.MultiheadAttention) for layer in model.modules()))\n",
        "\n",
        "    # Model parameters\n",
        "    hyp['box'] *= 3. / nl  # scale to layers\n",
        "    hyp['cls'] *= nc / 80. * 3. / nl  # scale to classes and layers\n",
        "    hyp['obj'] *= (imgsz / 640) ** 2 * 3. / nl  # scale to image size and layers\n",
        "    hyp['label_smoothing'] = opt.label_smoothing\n",
        "    model.nc = nc  # attach number of classes to model\n",
        "    model.hyp = hyp  # attach hyperparameters to model\n",
        "    model.gr = 1.0  # iou loss ratio (obj_loss = 1.0 or iou)\n",
        "    model.class_weights = labels_to_class_weights(dataset.labels, nc).to(device) * nc  # attach class weights\n",
        "    model.names = names\n",
        "\n",
        "    # Start training\n",
        "    t0 = time.time()\n",
        "    nw = max(round(hyp['warmup_epochs'] * nb), 1000)  # number of warmup iterations, max(3 epochs, 1k iterations)\n",
        "    # nw = min(nw, (epochs - start_epoch) / 2 * nb)  # limit warmup to < 1/2 of training\n",
        "    maps = np.zeros(nc)  # mAP per class\n",
        "    results = (0, 0, 0, 0, 0, 0, 0)  # P, R, mAP@.5, mAP@.5-.95, val_loss(box, obj, cls)\n",
        "    scheduler.last_epoch = start_epoch - 1  # do not move\n",
        "    scaler = amp.GradScaler(enabled=cuda)\n",
        "    compute_loss_ota = ComputeLossAuxOTA(model)  # init loss class\n",
        "    compute_loss = ComputeLoss(model)  # init loss class\n",
        "    logger.info(f'Image sizes {imgsz} train, {imgsz_test} test\\n'\n",
        "                f'Using {dataloader.num_workers} dataloader workers\\n'\n",
        "                f'Logging results to {save_dir}\\n'\n",
        "                f'Starting training for {epochs} epochs...')\n",
        "    torch.save(model, wdir / 'init.pt')\n",
        "    for epoch in range(start_epoch, epochs):  # epoch ------------------------------------------------------------------\n",
        "        model.train()\n",
        "\n",
        "        # Update image weights (optional)\n",
        "        if opt.image_weights:\n",
        "            # Generate indices\n",
        "            if rank in [-1, 0]:\n",
        "                cw = model.class_weights.cpu().numpy() * (1 - maps) ** 2 / nc  # class weights\n",
        "                iw = labels_to_image_weights(dataset.labels, nc=nc, class_weights=cw)  # image weights\n",
        "                dataset.indices = random.choices(range(dataset.n), weights=iw, k=dataset.n)  # rand weighted idx\n",
        "            # Broadcast if DDP\n",
        "            if rank != -1:\n",
        "                indices = (torch.tensor(dataset.indices) if rank == 0 else torch.zeros(dataset.n)).int()\n",
        "                dist.broadcast(indices, 0)\n",
        "                if rank != 0:\n",
        "                    dataset.indices = indices.cpu().numpy()\n",
        "\n",
        "        # Update mosaic border\n",
        "        # b = int(random.uniform(0.25 * imgsz, 0.75 * imgsz + gs) // gs * gs)\n",
        "        # dataset.mosaic_border = [b - imgsz, -b]  # height, width borders\n",
        "\n",
        "        mloss = torch.zeros(4, device=device)  # mean losses\n",
        "        if rank != -1:\n",
        "            dataloader.sampler.set_epoch(epoch)\n",
        "        pbar = enumerate(dataloader)\n",
        "        logger.info(('\\n' + '%10s' * 8) % ('Epoch', 'gpu_mem', 'box', 'obj', 'cls', 'total', 'labels', 'img_size'))\n",
        "        if rank in [-1, 0]:\n",
        "            pbar = tqdm(pbar, total=nb)  # progress bar\n",
        "        optimizer.zero_grad()\n",
        "        for i, (imgs, targets, paths, _) in pbar:  # batch -------------------------------------------------------------\n",
        "            ni = i + nb * epoch  # number integrated batches (since train start)\n",
        "            imgs = imgs.to(device, non_blocking=True).float() / 255.0  # uint8 to float32, 0-255 to 0.0-1.0\n",
        "\n",
        "            # Warmup\n",
        "            if ni <= nw:\n",
        "                xi = [0, nw]  # x interp\n",
        "                # model.gr = np.interp(ni, xi, [0.0, 1.0])  # iou loss ratio (obj_loss = 1.0 or iou)\n",
        "                accumulate = max(1, np.interp(ni, xi, [1, nbs / total_batch_size]).round())\n",
        "                for j, x in enumerate(optimizer.param_groups):\n",
        "                    # bias lr falls from 0.1 to lr0, all other lrs rise from 0.0 to lr0\n",
        "                    x['lr'] = np.interp(ni, xi, [hyp['warmup_bias_lr'] if j == 2 else 0.0, x['initial_lr'] * lf(epoch)])\n",
        "                    if 'momentum' in x:\n",
        "                        x['momentum'] = np.interp(ni, xi, [hyp['warmup_momentum'], hyp['momentum']])\n",
        "\n",
        "            # Multi-scale\n",
        "            if opt.multi_scale:\n",
        "                sz = random.randrange(imgsz * 0.5, imgsz * 1.5 + gs) // gs * gs  # size\n",
        "                sf = sz / max(imgs.shape[2:])  # scale factor\n",
        "                if sf != 1:\n",
        "                    ns = [math.ceil(x * sf / gs) * gs for x in imgs.shape[2:]]  # new shape (stretched to gs-multiple)\n",
        "                    imgs = F.interpolate(imgs, size=ns, mode='bilinear', align_corners=False)\n",
        "\n",
        "            # Forward\n",
        "            with amp.autocast(enabled=cuda):\n",
        "                pred = model(imgs)  # forward\n",
        "                loss, loss_items = compute_loss_ota(pred, targets.to(device), imgs)  # loss scaled by batch_size\n",
        "                if rank != -1:\n",
        "                    loss *= opt.world_size  # gradient averaged between devices in DDP mode\n",
        "                if opt.quad:\n",
        "                    loss *= 4.\n",
        "\n",
        "            # Backward\n",
        "            scaler.scale(loss).backward()\n",
        "\n",
        "            # Optimize\n",
        "            if ni % accumulate == 0:\n",
        "                scaler.step(optimizer)  # optimizer.step\n",
        "                scaler.update()\n",
        "                optimizer.zero_grad()\n",
        "                if ema:\n",
        "                    ema.update(model)\n",
        "\n",
        "            # Print\n",
        "            if rank in [-1, 0]:\n",
        "                mloss = (mloss * i + loss_items) / (i + 1)  # update mean losses\n",
        "                mem = '%.3gG' % (torch.cuda.memory_reserved() / 1E9 if torch.cuda.is_available() else 0)  # (GB)\n",
        "                s = ('%10s' * 2 + '%10.4g' * 6) % (\n",
        "                    '%g/%g' % (epoch, epochs - 1), mem, *mloss, targets.shape[0], imgs.shape[-1])\n",
        "                pbar.set_description(s)\n",
        "\n",
        "                # Plot\n",
        "                if plots and ni < 10:\n",
        "                    f = save_dir / f'train_batch{ni}.jpg'  # filename\n",
        "                    Thread(target=plot_images, args=(imgs, targets, paths, f), daemon=True).start()\n",
        "                    # if tb_writer:\n",
        "                    #     tb_writer.add_image(f, result, dataformats='HWC', global_step=epoch)\n",
        "                    #     tb_writer.add_graph(torch.jit.trace(model, imgs, strict=False), [])  # add model graph\n",
        "                elif plots and ni == 10 and wandb_logger.wandb:\n",
        "                    wandb_logger.log({\"Mosaics\": [wandb_logger.wandb.Image(str(x), caption=x.name) for x in\n",
        "                                                  save_dir.glob('train*.jpg') if x.exists()]})\n",
        "\n",
        "            # end batch ------------------------------------------------------------------------------------------------\n",
        "        # end epoch ----------------------------------------------------------------------------------------------------\n",
        "\n",
        "        # Scheduler\n",
        "        lr = [x['lr'] for x in optimizer.param_groups]  # for tensorboard\n",
        "        scheduler.step()\n",
        "\n",
        "        # DDP process 0 or single-GPU\n",
        "        if rank in [-1, 0]:\n",
        "            # mAP\n",
        "            ema.update_attr(model, include=['yaml', 'nc', 'hyp', 'gr', 'names', 'stride', 'class_weights'])\n",
        "            final_epoch = epoch + 1 == epochs\n",
        "            if not opt.notest or final_epoch:  # Calculate mAP\n",
        "                wandb_logger.current_epoch = epoch + 1\n",
        "                results, maps, times = test.test(data_dict,\n",
        "                                                 batch_size=batch_size * 2,\n",
        "                                                 imgsz=imgsz_test,\n",
        "                                                 model=ema.ema,\n",
        "                                                 single_cls=opt.single_cls,\n",
        "                                                 dataloader=testloader,\n",
        "                                                 save_dir=save_dir,\n",
        "                                                 verbose=nc < 50 and final_epoch,\n",
        "                                                 plots=plots and final_epoch,\n",
        "                                                 wandb_logger=wandb_logger,\n",
        "                                                 compute_loss=compute_loss,\n",
        "                                                 is_coco=is_coco,\n",
        "                                                 v5_metric=opt.v5_metric)\n",
        "\n",
        "            # Write\n",
        "            with open(results_file, 'a') as f:\n",
        "                f.write(s + '%10.4g' * 7 % results + '\\n')  # append metrics, val_loss\n",
        "            if len(opt.name) and opt.bucket:\n",
        "                os.system('gsutil cp %s gs://%s/results/results%s.txt' % (results_file, opt.bucket, opt.name))\n",
        "\n",
        "            # Log\n",
        "            tags = ['train/box_loss', 'train/obj_loss', 'train/cls_loss',  # train loss\n",
        "                    'metrics/precision', 'metrics/recall', 'metrics/mAP_0.5', 'metrics/mAP_0.5:0.95',\n",
        "                    'val/box_loss', 'val/obj_loss', 'val/cls_loss',  # val loss\n",
        "                    'x/lr0', 'x/lr1', 'x/lr2']  # params\n",
        "            for x, tag in zip(list(mloss[:-1]) + list(results) + lr, tags):\n",
        "                if tb_writer:\n",
        "                    tb_writer.add_scalar(tag, x, epoch)  # tensorboard\n",
        "                if wandb_logger.wandb:\n",
        "                    wandb_logger.log({tag: x})  # W&B\n",
        "\n",
        "            # Update best mAP\n",
        "            fi = fitness(np.array(results).reshape(1, -1))  # weighted combination of [P, R, mAP@.5, mAP@.5-.95]\n",
        "            if fi > best_fitness:\n",
        "                best_fitness = fi\n",
        "            wandb_logger.end_epoch(best_result=best_fitness == fi)\n",
        "\n",
        "            # Save model\n",
        "            if (not opt.nosave) or (final_epoch and not opt.evolve):  # if save\n",
        "                ckpt = {'epoch': epoch,\n",
        "                        'best_fitness': best_fitness,\n",
        "                        'training_results': results_file.read_text(),\n",
        "                        'model': deepcopy(model.module if is_parallel(model) else model).half(),\n",
        "                        'ema': deepcopy(ema.ema).half(),\n",
        "                        'updates': ema.updates,\n",
        "                        'optimizer': optimizer.state_dict(),\n",
        "                        'wandb_id': wandb_logger.wandb_run.id if wandb_logger.wandb else None}\n",
        "\n",
        "                # Save last, best and delete\n",
        "                torch.save(ckpt, last)\n",
        "                if best_fitness == fi:\n",
        "                    torch.save(ckpt, best)\n",
        "                if (best_fitness == fi) and (epoch >= 200):\n",
        "                    torch.save(ckpt, wdir / 'best_{:03d}.pt'.format(epoch))\n",
        "                if epoch == 0:\n",
        "                    torch.save(ckpt, wdir / 'epoch_{:03d}.pt'.format(epoch))\n",
        "                elif ((epoch+1) % 25) == 0:\n",
        "                    torch.save(ckpt, wdir / 'epoch_{:03d}.pt'.format(epoch))\n",
        "                elif epoch >= (epochs-5):\n",
        "                    torch.save(ckpt, wdir / 'epoch_{:03d}.pt'.format(epoch))\n",
        "                if wandb_logger.wandb:\n",
        "                    if ((epoch + 1) % opt.save_period == 0 and not final_epoch) and opt.save_period != -1:\n",
        "                        wandb_logger.log_model(\n",
        "                            last.parent, opt, epoch, fi, best_model=best_fitness == fi)\n",
        "                del ckpt\n",
        "\n",
        "        # end epoch ----------------------------------------------------------------------------------------------------\n",
        "    # end training\n",
        "    if rank in [-1, 0]:\n",
        "        # Plots\n",
        "        if plots:\n",
        "            plot_results(save_dir=save_dir)  # save as results.png\n",
        "            if wandb_logger.wandb:\n",
        "                files = ['results.png', 'confusion_matrix.png', *[f'{x}_curve.png' for x in ('F1', 'PR', 'P', 'R')]]\n",
        "                wandb_logger.log({\"Results\": [wandb_logger.wandb.Image(str(save_dir / f), caption=f) for f in files\n",
        "                                              if (save_dir / f).exists()]})\n",
        "        # Test best.pt\n",
        "        logger.info('%g epochs completed in %.3f hours.\\n' % (epoch - start_epoch + 1, (time.time() - t0) / 3600))\n",
        "        if opt.data.endswith('coco.yaml') and nc == 80:  # if COCO\n",
        "            for m in (last, best) if best.exists() else (last):  # speed, mAP tests\n",
        "                results, _, _ = test.test(opt.data,\n",
        "                                          batch_size=batch_size * 2,\n",
        "                                          imgsz=imgsz_test,\n",
        "                                          conf_thres=0.001,\n",
        "                                          iou_thres=0.7,\n",
        "                                          model=attempt_load(m, device).half(),\n",
        "                                          single_cls=opt.single_cls,\n",
        "                                          dataloader=testloader,\n",
        "                                          save_dir=save_dir,\n",
        "                                          save_json=True,\n",
        "                                          plots=False,\n",
        "                                          is_coco=is_coco,\n",
        "                                          v5_metric=opt.v5_metric)\n",
        "\n",
        "        # Strip optimizers\n",
        "        final = best if best.exists() else last  # final model\n",
        "        for f in last, best:\n",
        "            if f.exists():\n",
        "                strip_optimizer(f)  # strip optimizers\n",
        "        if opt.bucket:\n",
        "            os.system(f'gsutil cp {final} gs://{opt.bucket}/weights')  # upload\n",
        "        if wandb_logger.wandb and not opt.evolve:  # Log the stripped model\n",
        "            wandb_logger.wandb.log_artifact(str(final), type='model',\n",
        "                                            name='run_' + wandb_logger.wandb_run.id + '_model',\n",
        "                                            aliases=['last', 'best', 'stripped'])\n",
        "        wandb_logger.finish_run()\n",
        "    else:\n",
        "        dist.destroy_process_group()\n",
        "    torch.cuda.empty_cache()\n",
        "    return results\n",
        "\n",
        "\n",
        "if True:\n",
        "    parser = argparse.ArgumentParser()\n",
        "    parser.add_argument('--weights', type=str, default='./yolov7-e6e-training.pt', help='initial weights path', required=False)\n",
        "    parser.add_argument('--cfg', type=str, default='cfg/training/yolov7-e6e.yaml', help='model.yaml path', required=False)\n",
        "    parser.add_argument('--data', type=str, default='../data.yaml', help='data.yaml path', required=False)\n",
        "    parser.add_argument('--hyp', type=str, default='data/frac.yaml', help='hyperparameters path', required=False)\n",
        "    parser.add_argument('--epochs', type=int, default=80, required=False)\n",
        "    parser.add_argument('--batch-size', type=int, default=16, help='total batch size for all GPUs', required=False)\n",
        "    parser.add_argument('--img-size', nargs='+', type=int, default=[350, 350], help='[train, test] image sizes', required=False)\n",
        "    parser.add_argument('--rect', action='store_true', help='rectangular training', required=False)\n",
        "    parser.add_argument('--resume', nargs='?', const=True, default=False, help='resume most recent training', required=False)\n",
        "    parser.add_argument('--nosave', action='store_true', help='only save final checkpoint', required=False)\n",
        "    parser.add_argument('--notest', action='store_true', help='only test final epoch', required=False)\n",
        "    parser.add_argument('--noautoanchor', action='store_true', help='disable autoanchor check', required=False)\n",
        "    parser.add_argument('--evolve', action='store_true', help='evolve hyperparameters', required=False)\n",
        "    parser.add_argument('--bucket', type=str, default='', help='gsutil bucket', required=False)\n",
        "    parser.add_argument('--cache-images', action='store_true', help='cache images for faster training', required=False)\n",
        "    parser.add_argument('--image-weights', action='store_true', help='use weighted image selection for training', required=False)\n",
        "    parser.add_argument('--device', default='', help='cuda device, i.e. 0 or 0,1,2,3 or cpu', required=False)\n",
        "    parser.add_argument('--multi-scale', action='store_true', help='vary img-size +/- 50%%', required=False)\n",
        "    parser.add_argument('--single-cls', action='store_true', help='train multi-class data as single-class', required=False)\n",
        "    parser.add_argument('--adam', action='store_true', help='use torch.optim.Adam() optimizer', required=False)\n",
        "    parser.add_argument('--sync-bn', action='store_true', help='use SyncBatchNorm, only available in DDP mode', required=False)\n",
        "    parser.add_argument('--local_rank', type=int, default=-1, help='DDP parameter, do not modify', required=False)\n",
        "    parser.add_argument('--workers', type=int, default=8, help='maximum number of dataloader workers', required=False)\n",
        "    parser.add_argument('--project', default='runs/train', help='save to project/name', required=False)\n",
        "    parser.add_argument('--entity', default=None, help='W&B entity', required=False)\n",
        "    parser.add_argument('--name', default='exp', help='save to project/name', required=False)\n",
        "    parser.add_argument('--exist-ok', action='store_true', help='existing project/name ok, do not increment', required=False)\n",
        "    parser.add_argument('--quad', action='store_true', help='quad dataloader', required=False)\n",
        "    parser.add_argument('--linear-lr', action='store_true', help='linear LR', required=False)\n",
        "    parser.add_argument('--label-smoothing', type=float, default=0.0, help='Label smoothing epsilon', required=False)\n",
        "    parser.add_argument('--upload_dataset', action='store_true', help='Upload dataset as W&B artifact table', required=False)\n",
        "    parser.add_argument('--bbox_interval', type=int, default=-1, help='Set bounding-box image logging interval for W&B', required=False)\n",
        "    parser.add_argument('--save_period', type=int, default=-1, help='Log model after every \"save_period\" epoch', required=False)\n",
        "    parser.add_argument('--artifact_alias', type=str, default=\"latest\", help='version of dataset artifact to be used', required=False)\n",
        "    parser.add_argument('--v5-metric', action='store_true', help='assume maximum recall as 1.0 in AP calculation', required=False)\n",
        "    parser.add_argument('-f', required=False)\n",
        "    opt = parser.parse_args()\n",
        "\n",
        "    # Set DDP variables\n",
        "    opt.world_size = int(os.environ['WORLD_SIZE']) if 'WORLD_SIZE' in os.environ else 1\n",
        "    opt.global_rank = int(os.environ['RANK']) if 'RANK' in os.environ else -1\n",
        "    set_logging(opt.global_rank)\n",
        "    #if opt.global_rank in [-1, 0]:\n",
        "    #    check_git_status()\n",
        "    #    check_requirements()\n",
        "\n",
        "    # Resume\n",
        "    wandb_run = check_wandb_resume(opt)\n",
        "    if opt.resume and not wandb_run:  # resume an interrupted run\n",
        "        ckpt = opt.resume if isinstance(opt.resume, str) else get_latest_run()  # specified or most recent path\n",
        "        assert os.path.isfile(ckpt), 'ERROR: --resume checkpoint does not exist'\n",
        "        apriori = opt.global_rank, opt.local_rank\n",
        "        with open(Path(ckpt).parent.parent / 'opt.yaml') as f:\n",
        "            opt = argparse.Namespace(**yaml.load(f, Loader=yaml.SafeLoader))  # replace\n",
        "        opt.cfg, opt.weights, opt.resume, opt.batch_size, opt.global_rank, opt.local_rank = '', ckpt, True, opt.total_batch_size, *apriori  # reinstate\n",
        "        logger.info('Resuming training from %s' % ckpt)\n",
        "    else:\n",
        "        # opt.hyp = opt.hyp or ('hyp.finetune.yaml' if opt.weights else 'hyp.scratch.yaml')\n",
        "        opt.data, opt.cfg, opt.hyp = check_file(opt.data), check_file(opt.cfg), check_file(opt.hyp)  # check files\n",
        "        assert len(opt.cfg) or len(opt.weights), 'either --cfg or --weights must be specified'\n",
        "        opt.img_size.extend([opt.img_size[-1]] * (2 - len(opt.img_size)))  # extend to 2 sizes (train, test)\n",
        "        opt.name = 'evolve' if opt.evolve else opt.name\n",
        "        opt.save_dir = increment_path(Path(opt.project) / opt.name, exist_ok=opt.exist_ok | opt.evolve)  # increment run\n",
        "\n",
        "    # DDP mode\n",
        "    opt.total_batch_size = opt.batch_size\n",
        "    device = select_device(opt.device, batch_size=opt.batch_size)\n",
        "    if opt.local_rank != -1:\n",
        "        assert torch.cuda.device_count() > opt.local_rank\n",
        "        torch.cuda.set_device(opt.local_rank)\n",
        "        device = torch.device('cuda', opt.local_rank)\n",
        "        dist.init_process_group(backend='nccl', init_method='env://')  # distributed backend\n",
        "        assert opt.batch_size % opt.world_size == 0, '--batch-size must be multiple of CUDA device count'\n",
        "        opt.batch_size = opt.total_batch_size // opt.world_size\n",
        "\n",
        "    # Hyperparameters\n",
        "    with open(opt.hyp) as f:\n",
        "        hyp = yaml.load(f, Loader=yaml.SafeLoader)  # load hyps\n",
        "\n",
        "    # Train\n",
        "    logger.info(opt)\n",
        "    if not opt.evolve:\n",
        "        tb_writer = None  # init loggers\n",
        "        if opt.global_rank in [-1, 0]:\n",
        "            prefix = colorstr('tensorboard: ')\n",
        "            logger.info(f\"{prefix}Start with 'tensorboard --logdir {opt.project}', view at http://localhost:6006/\")\n",
        "            tb_writer = SummaryWriter(opt.save_dir)  # Tensorboard\n",
        "        train(hyp, opt, device, tb_writer)\n",
        "\n",
        "    # Evolve hyperparameters (optional)\n",
        "    else:\n",
        "        # Hyperparameter evolution metadata (mutation scale 0-1, lower_limit, upper_limit)\n",
        "        meta = {'lr0': (1, 1e-5, 1e-1),  # initial learning rate (SGD=1E-2, Adam=1E-3)\n",
        "                'lrf': (1, 0.01, 1.0),  # final OneCycleLR learning rate (lr0 * lrf)\n",
        "                'momentum': (0.3, 0.6, 0.98),  # SGD momentum/Adam beta1\n",
        "                'weight_decay': (1, 0.0, 0.001),  # optimizer weight decay\n",
        "                'warmup_epochs': (1, 0.0, 5.0),  # warmup epochs (fractions ok)\n",
        "                'warmup_momentum': (1, 0.0, 0.95),  # warmup initial momentum\n",
        "                'warmup_bias_lr': (1, 0.0, 0.2),  # warmup initial bias lr\n",
        "                'box': (1, 0.02, 0.2),  # box loss gain\n",
        "                'cls': (1, 0.2, 4.0),  # cls loss gain\n",
        "                'cls_pw': (1, 0.5, 2.0),  # cls BCELoss positive_weight\n",
        "                'obj': (1, 0.2, 4.0),  # obj loss gain (scale with pixels)\n",
        "                'obj_pw': (1, 0.5, 2.0),  # obj BCELoss positive_weight\n",
        "                'iou_t': (0, 0.1, 0.7),  # IoU training threshold\n",
        "                'anchor_t': (1, 2.0, 8.0),  # anchor-multiple threshold\n",
        "                'anchors': (2, 2.0, 10.0),  # anchors per output grid (0 to ignore)\n",
        "                'fl_gamma': (0, 0.0, 2.0),  # focal loss gamma (efficientDet default gamma=1.5)\n",
        "                'hsv_h': (1, 0.0, 0.1),  # image HSV-Hue augmentation (fraction)\n",
        "                'hsv_s': (1, 0.0, 0.9),  # image HSV-Saturation augmentation (fraction)\n",
        "                'hsv_v': (1, 0.0, 0.9),  # image HSV-Value augmentation (fraction)\n",
        "                'degrees': (1, 0.0, 45.0),  # image rotation (+/- deg)\n",
        "                'translate': (1, 0.0, 0.9),  # image translation (+/- fraction)\n",
        "                'scale': (1, 0.0, 0.9),  # image scale (+/- gain)\n",
        "                'shear': (1, 0.0, 10.0),  # image shear (+/- deg)\n",
        "                'perspective': (0, 0.0, 0.001),  # image perspective (+/- fraction), range 0-0.001\n",
        "                'flipud': (1, 0.0, 1.0),  # image flip up-down (probability)\n",
        "                'fliplr': (0, 0.0, 1.0),  # image flip left-right (probability)\n",
        "                'mosaic': (1, 0.0, 1.0),  # image mixup (probability)\n",
        "                'mixup': (1, 0.0, 1.0)}  # image mixup (probability)\n",
        "\n",
        "        with open(opt.hyp, errors='ignore') as f:\n",
        "            hyp = yaml.safe_load(f)  # load hyps dict\n",
        "            if 'anchors' not in hyp:  # anchors commented in hyp.yaml\n",
        "                hyp['anchors'] = 3\n",
        "\n",
        "        assert opt.local_rank == -1, 'DDP mode not implemented for --evolve'\n",
        "        opt.notest, opt.nosave = True, True  # only test/save final epoch\n",
        "        # ei = [isinstance(x, (int, float)) for x in hyp.values()]  # evolvable indices\n",
        "        yaml_file = Path(opt.save_dir) / 'hyp_evolved.yaml'  # save best result here\n",
        "        if opt.bucket:\n",
        "            os.system('gsutil cp gs://%s/evolve.txt .' % opt.bucket)  # download evolve.txt if exists\n",
        "\n",
        "        for _ in range(300):  # generations to evolve\n",
        "            if Path('evolve.txt').exists():  # if evolve.txt exists: select best hyps and mutate\n",
        "                # Select parent(s)\n",
        "                parent = 'single'  # parent selection method: 'single' or 'weighted'\n",
        "                x = np.loadtxt('evolve.txt', ndmin=2)\n",
        "                n = min(5, len(x))  # number of previous results to consider\n",
        "                x = x[np.argsort(-fitness(x))][:n]  # top n mutations\n",
        "                w = fitness(x) - fitness(x).min()  # weights\n",
        "                if parent == 'single' or len(x) == 1:\n",
        "                    # x = x[random.randint(0, n - 1)]  # random selection\n",
        "                    x = x[random.choices(range(n), weights=w)[0]]  # weighted selection\n",
        "                elif parent == 'weighted':\n",
        "                    x = (x * w.reshape(n, 1)).sum(0) / w.sum()  # weighted combination\n",
        "\n",
        "                # Mutate\n",
        "                mp, s = 0.8, 0.2  # mutation probability, sigma\n",
        "                npr = np.random\n",
        "                npr.seed(int(time.time()))\n",
        "                g = np.array([x[0] for x in meta.values()])  # gains 0-1\n",
        "                ng = len(meta)\n",
        "                v = np.ones(ng)\n",
        "                while all(v == 1):  # mutate until a change occurs (prevent duplicates)\n",
        "                    v = (g * (npr.random(ng) < mp) * npr.randn(ng) * npr.random() * s + 1).clip(0.3, 3.0)\n",
        "                for i, k in enumerate(hyp.keys()):  # plt.hist(v.ravel(), 300)\n",
        "                    hyp[k] = float(x[i + 7] * v[i])  # mutate\n",
        "\n",
        "            # Constrain to limits\n",
        "            for k, v in meta.items():\n",
        "                hyp[k] = max(hyp[k], v[1])  # lower limit\n",
        "                hyp[k] = min(hyp[k], v[2])  # upper limit\n",
        "                hyp[k] = round(hyp[k], 5)  # significant digits\n",
        "\n",
        "            # Train mutation\n",
        "            results = train(hyp.copy(), opt, device)\n",
        "\n",
        "            # Write mutation results\n",
        "            print_mutation(hyp.copy(), results, yaml_file, opt.bucket)\n",
        "\n",
        "        # Plot results\n",
        "        plot_evolution(yaml_file)\n",
        "        print(f'Hyperparameter evolution complete. Best results saved as: {yaml_file}\\n'\n",
        "              f'Command to train a new model with these hyperparameters: $ python train.py --hyp {yaml_file}')\n"
      ],
      "metadata": {
        "colab": {
          "base_uri": "https://localhost:8080/"
        },
        "id": "se6jpSF2YZ8I",
        "outputId": "faf572b4-0920-4b8b-c2a8-03577635f88c"
      },
      "execution_count": 2,
      "outputs": [
        {
          "output_type": "stream",
          "name": "stdout",
          "text": [
            "\u001b[34m\u001b[1mwandb: \u001b[0mInstall Weights & Biases for YOLOR logging with 'pip install wandb' (recommended)\n",
            "WARNING: --img-size 350 must be multiple of max stride 64, updating to 384\n",
            "WARNING: --img-size 350 must be multiple of max stride 64, updating to 384\n",
            "../train/labels/all_0_1333_png.rf.93e2db851a9a41a79c3b29fd0307d8cd.txt\n"
          ]
        },
        {
          "output_type": "stream",
          "name": "stderr",
          "text": [
            "\u001b[34m\u001b[1mtrain: \u001b[0mScanning '../train/labels' images and labels... 781 found, 0 missing, 1 empty, 0 corrupted: 100%|██████████| 781/781 [00:00<00:00, 2914.84it/s]\n"
          ]
        },
        {
          "output_type": "stream",
          "name": "stdout",
          "text": [
            "../valid/labels/all_0_1374_png.rf.fc1c9e16584107d412bde10e19ac93f0.txt\n"
          ]
        },
        {
          "output_type": "stream",
          "name": "stderr",
          "text": [
            "\u001b[34m\u001b[1mval: \u001b[0mScanning '../valid/labels' images and labels... 99 found, 0 missing, 0 empty, 0 corrupted: 100%|██████████| 99/99 [00:00<00:00, 2585.58it/s]\n"
          ]
        },
        {
          "output_type": "stream",
          "name": "stdout",
          "text": [
            "\n",
            "\u001b[34m\u001b[1mautoanchor: \u001b[0mAnalyzing anchors... anchors/target = 4.48, Best Possible Recall (BPR) = 1.0000\n"
          ]
        },
        {
          "output_type": "stream",
          "name": "stderr",
          "text": [
            "      0/79     4.86G   0.07835  0.006357         0   0.08471        27       384: 100%|██████████| 49/49 [00:41<00:00,  1.19it/s]\n",
            "               Class      Images      Labels           P           R      mAP@.5  mAP@.5:.95:   0%|          | 0/4 [00:00<?, ?it/s]/usr/local/lib/python3.10/dist-packages/torch/functional.py:504: UserWarning: torch.meshgrid: in an upcoming release, it will be required to pass the indexing argument. (Triggered internally at ../aten/src/ATen/native/TensorShape.cpp:3526.)\n",
            "  return _VF.meshgrid(tensors, **kwargs)  # type: ignore[attr-defined]\n",
            "               Class      Images      Labels           P           R      mAP@.5  mAP@.5:.95: 100%|██████████| 4/4 [00:03<00:00,  1.21it/s]\n"
          ]
        },
        {
          "output_type": "stream",
          "name": "stdout",
          "text": [
            "                 all          99         117    0.000546      0.0342    5.33e-05    1.24e-05\n"
          ]
        },
        {
          "output_type": "stream",
          "name": "stderr",
          "text": [
            "      1/79     8.58G   0.07179  0.006393         0   0.07818        38       384: 100%|██████████| 49/49 [00:23<00:00,  2.12it/s]\n",
            "               Class      Images      Labels           P           R      mAP@.5  mAP@.5:.95: 100%|██████████| 4/4 [00:00<00:00,  4.35it/s]\n"
          ]
        },
        {
          "output_type": "stream",
          "name": "stdout",
          "text": [
            "                 all          99         117    0.000529     0.00855    1.19e-05    1.47e-06\n"
          ]
        },
        {
          "output_type": "stream",
          "name": "stderr",
          "text": [
            "      2/79     9.48G   0.06409  0.006144         0   0.07023        23       384: 100%|██████████| 49/49 [00:22<00:00,  2.17it/s]\n",
            "               Class      Images      Labels           P           R      mAP@.5  mAP@.5:.95: 100%|██████████| 4/4 [00:00<00:00,  5.15it/s]\n"
          ]
        },
        {
          "output_type": "stream",
          "name": "stdout",
          "text": [
            "                 all          99         117    0.000328      0.0342    1.77e-05    2.01e-06\n"
          ]
        },
        {
          "output_type": "stream",
          "name": "stderr",
          "text": [
            "      3/79     9.52G   0.06529   0.00585         0   0.07114        27       384: 100%|██████████| 49/49 [00:21<00:00,  2.27it/s]\n",
            "               Class      Images      Labels           P           R      mAP@.5  mAP@.5:.95: 100%|██████████| 4/4 [00:00<00:00,  5.41it/s]\n"
          ]
        },
        {
          "output_type": "stream",
          "name": "stdout",
          "text": [
            "                 all          99         117    0.000142      0.0342    6.16e-06    9.73e-07\n"
          ]
        },
        {
          "output_type": "stream",
          "name": "stderr",
          "text": [
            "      4/79     9.52G   0.06087  0.005682         0   0.06655        43       384: 100%|██████████| 49/49 [00:21<00:00,  2.31it/s]\n",
            "               Class      Images      Labels           P           R      mAP@.5  mAP@.5:.95: 100%|██████████| 4/4 [00:00<00:00,  5.49it/s]\n"
          ]
        },
        {
          "output_type": "stream",
          "name": "stdout",
          "text": [
            "                 all          99           0           0           0           0           0\n"
          ]
        },
        {
          "output_type": "stream",
          "name": "stderr",
          "text": [
            "      5/79     9.52G   0.05308  0.005501         0   0.05858        26       384: 100%|██████████| 49/49 [00:21<00:00,  2.31it/s]\n",
            "               Class      Images      Labels           P           R      mAP@.5  mAP@.5:.95: 100%|██████████| 4/4 [00:00<00:00,  5.52it/s]\n"
          ]
        },
        {
          "output_type": "stream",
          "name": "stdout",
          "text": [
            "                 all          99         117    0.000347      0.0855    3.26e-05     4.1e-06\n"
          ]
        },
        {
          "output_type": "stream",
          "name": "stderr",
          "text": [
            "      6/79     9.52G   0.05261  0.005206         0   0.05782        36       384: 100%|██████████| 49/49 [00:20<00:00,  2.35it/s]\n",
            "               Class      Images      Labels           P           R      mAP@.5  mAP@.5:.95: 100%|██████████| 4/4 [00:00<00:00,  5.64it/s]\n"
          ]
        },
        {
          "output_type": "stream",
          "name": "stdout",
          "text": [
            "                 all          99         117    0.000168      0.0427    8.09e-06    1.59e-06\n"
          ]
        },
        {
          "output_type": "stream",
          "name": "stderr",
          "text": [
            "      7/79     9.52G    0.0536  0.005004         0   0.05861        21       384: 100%|██████████| 49/49 [00:20<00:00,  2.34it/s]\n",
            "               Class      Images      Labels           P           R      mAP@.5  mAP@.5:.95: 100%|██████████| 4/4 [00:00<00:00,  5.58it/s]\n"
          ]
        },
        {
          "output_type": "stream",
          "name": "stdout",
          "text": [
            "                 all          99         117    0.000168      0.0427    8.24e-06    1.76e-06\n"
          ]
        },
        {
          "output_type": "stream",
          "name": "stderr",
          "text": [
            "      8/79     9.52G   0.05174  0.005063         0    0.0568        25       384: 100%|██████████| 49/49 [00:21<00:00,  2.31it/s]\n",
            "               Class      Images      Labels           P           R      mAP@.5  mAP@.5:.95: 100%|██████████| 4/4 [00:00<00:00,  5.92it/s]\n"
          ]
        },
        {
          "output_type": "stream",
          "name": "stdout",
          "text": [
            "                 all          99           0           0           0           0           0\n"
          ]
        },
        {
          "output_type": "stream",
          "name": "stderr",
          "text": [
            "      9/79     9.52G   0.05409  0.005098         0   0.05919        46       384: 100%|██████████| 49/49 [00:21<00:00,  2.30it/s]\n",
            "               Class      Images      Labels           P           R      mAP@.5  mAP@.5:.95: 100%|██████████| 4/4 [00:00<00:00,  5.89it/s]\n"
          ]
        },
        {
          "output_type": "stream",
          "name": "stdout",
          "text": [
            "                 all          99           0           0           0           0           0\n"
          ]
        },
        {
          "output_type": "stream",
          "name": "stderr",
          "text": [
            "     10/79     9.52G   0.04985  0.005149         0     0.055        17       384: 100%|██████████| 49/49 [00:21<00:00,  2.33it/s]\n",
            "               Class      Images      Labels           P           R      mAP@.5  mAP@.5:.95: 100%|██████████| 4/4 [00:00<00:00,  5.86it/s]\n"
          ]
        },
        {
          "output_type": "stream",
          "name": "stdout",
          "text": [
            "                 all          99         117    0.000282     0.00855    4.63e-06    6.34e-07\n"
          ]
        },
        {
          "output_type": "stream",
          "name": "stderr",
          "text": [
            "     11/79     9.52G   0.04802  0.004887         0    0.0529        40       384: 100%|██████████| 49/49 [00:20<00:00,  2.36it/s]\n",
            "               Class      Images      Labels           P           R      mAP@.5  mAP@.5:.95: 100%|██████████| 4/4 [00:01<00:00,  3.92it/s]\n"
          ]
        },
        {
          "output_type": "stream",
          "name": "stdout",
          "text": [
            "                 all          99           0           0           0           0           0\n"
          ]
        },
        {
          "output_type": "stream",
          "name": "stderr",
          "text": [
            "     12/79     9.52G   0.05379   0.00453         0   0.05832        32       384: 100%|██████████| 49/49 [00:20<00:00,  2.39it/s]\n",
            "               Class      Images      Labels           P           R      mAP@.5  mAP@.5:.95: 100%|██████████| 4/4 [00:00<00:00,  5.72it/s]\n"
          ]
        },
        {
          "output_type": "stream",
          "name": "stdout",
          "text": [
            "                 all          99         117    0.000911       0.231    0.000256    3.81e-05\n"
          ]
        },
        {
          "output_type": "stream",
          "name": "stderr",
          "text": [
            "     13/79     9.52G    0.0482  0.004558         0   0.05276        28       384: 100%|██████████| 49/49 [00:20<00:00,  2.39it/s]\n",
            "               Class      Images      Labels           P           R      mAP@.5  mAP@.5:.95: 100%|██████████| 4/4 [00:00<00:00, 12.13it/s]\n"
          ]
        },
        {
          "output_type": "stream",
          "name": "stdout",
          "text": [
            "                 all          99           0           0           0           0           0\n"
          ]
        },
        {
          "output_type": "stream",
          "name": "stderr",
          "text": [
            "     14/79     9.52G   0.04946  0.004318         0   0.05378        36       384: 100%|██████████| 49/49 [00:20<00:00,  2.40it/s]\n",
            "               Class      Images      Labels           P           R      mAP@.5  mAP@.5:.95: 100%|██████████| 4/4 [00:00<00:00,  5.81it/s]\n"
          ]
        },
        {
          "output_type": "stream",
          "name": "stdout",
          "text": [
            "                 all          99         117     0.00067      0.0855    8.08e-05    1.19e-05\n"
          ]
        },
        {
          "output_type": "stream",
          "name": "stderr",
          "text": [
            "     15/79     9.52G   0.05178  0.004364         0   0.05614        23       384: 100%|██████████| 49/49 [00:20<00:00,  2.40it/s]\n",
            "               Class      Images      Labels           P           R      mAP@.5  mAP@.5:.95: 100%|██████████| 4/4 [00:00<00:00,  5.56it/s]\n"
          ]
        },
        {
          "output_type": "stream",
          "name": "stdout",
          "text": [
            "                 all          99           0           0           0           0           0\n"
          ]
        },
        {
          "output_type": "stream",
          "name": "stderr",
          "text": [
            "     16/79     9.52G   0.05366  0.004757         0   0.05842        20       384: 100%|██████████| 49/49 [00:21<00:00,  2.33it/s]\n",
            "               Class      Images      Labels           P           R      mAP@.5  mAP@.5:.95: 100%|██████████| 4/4 [00:01<00:00,  3.89it/s]\n"
          ]
        },
        {
          "output_type": "stream",
          "name": "stdout",
          "text": [
            "                 all          99         117      0.0061     0.00855    5.85e-05    6.57e-06\n"
          ]
        },
        {
          "output_type": "stream",
          "name": "stderr",
          "text": [
            "     17/79     9.52G   0.05068  0.004821         0    0.0555        19       384: 100%|██████████| 49/49 [00:20<00:00,  2.43it/s]\n",
            "               Class      Images      Labels           P           R      mAP@.5  mAP@.5:.95: 100%|██████████| 4/4 [00:00<00:00,  6.58it/s]\n"
          ]
        },
        {
          "output_type": "stream",
          "name": "stdout",
          "text": [
            "                 all          99         117    0.000337      0.0855    3.45e-05    5.97e-06\n"
          ]
        },
        {
          "output_type": "stream",
          "name": "stderr",
          "text": [
            "     18/79     9.52G   0.04858  0.004464         0   0.05304        39       384: 100%|██████████| 49/49 [00:20<00:00,  2.42it/s]\n",
            "               Class      Images      Labels           P           R      mAP@.5  mAP@.5:.95: 100%|██████████| 4/4 [00:00<00:00,  6.00it/s]\n"
          ]
        },
        {
          "output_type": "stream",
          "name": "stdout",
          "text": [
            "                 all          99         117     0.00147       0.248    0.000502    7.33e-05\n"
          ]
        },
        {
          "output_type": "stream",
          "name": "stderr",
          "text": [
            "     19/79     9.52G   0.04696  0.004424         0   0.05138        28       384: 100%|██████████| 49/49 [00:20<00:00,  2.38it/s]\n",
            "               Class      Images      Labels           P           R      mAP@.5  mAP@.5:.95: 100%|██████████| 4/4 [00:00<00:00,  6.45it/s]\n"
          ]
        },
        {
          "output_type": "stream",
          "name": "stdout",
          "text": [
            "                 all          99         117     0.00129       0.103    0.000485     8.1e-05\n"
          ]
        },
        {
          "output_type": "stream",
          "name": "stderr",
          "text": [
            "     20/79     9.52G   0.04863  0.004589         0   0.05322        38       384: 100%|██████████| 49/49 [00:20<00:00,  2.38it/s]\n",
            "               Class      Images      Labels           P           R      mAP@.5  mAP@.5:.95: 100%|██████████| 4/4 [00:00<00:00,  6.25it/s]\n"
          ]
        },
        {
          "output_type": "stream",
          "name": "stdout",
          "text": [
            "                 all          99         117     0.00203       0.248    0.000839    0.000165\n"
          ]
        },
        {
          "output_type": "stream",
          "name": "stderr",
          "text": [
            "     21/79     9.52G   0.04682  0.004312         0   0.05113        34       384: 100%|██████████| 49/49 [00:20<00:00,  2.43it/s]\n",
            "               Class      Images      Labels           P           R      mAP@.5  mAP@.5:.95: 100%|██████████| 4/4 [00:00<00:00,  5.91it/s]\n"
          ]
        },
        {
          "output_type": "stream",
          "name": "stdout",
          "text": [
            "                 all          99         117     0.00111       0.265    0.000424    6.05e-05\n"
          ]
        },
        {
          "output_type": "stream",
          "name": "stderr",
          "text": [
            "     22/79     9.52G   0.04666  0.004671         0   0.05133        25       384: 100%|██████████| 49/49 [00:20<00:00,  2.38it/s]\n",
            "               Class      Images      Labels           P           R      mAP@.5  mAP@.5:.95: 100%|██████████| 4/4 [00:00<00:00,  6.20it/s]\n"
          ]
        },
        {
          "output_type": "stream",
          "name": "stdout",
          "text": [
            "                 all          99         117     0.00115       0.111     0.00039    7.09e-05\n"
          ]
        },
        {
          "output_type": "stream",
          "name": "stderr",
          "text": [
            "     23/79     9.52G   0.04479  0.004555         0   0.04935        22       384: 100%|██████████| 49/49 [00:20<00:00,  2.41it/s]\n",
            "               Class      Images      Labels           P           R      mAP@.5  mAP@.5:.95: 100%|██████████| 4/4 [00:00<00:00,  5.88it/s]\n"
          ]
        },
        {
          "output_type": "stream",
          "name": "stdout",
          "text": [
            "                 all          99         117     0.00264      0.0513    0.000862    0.000156\n"
          ]
        },
        {
          "output_type": "stream",
          "name": "stderr",
          "text": [
            "     24/79     9.52G   0.04445  0.004338         0   0.04878        38       384: 100%|██████████| 49/49 [00:20<00:00,  2.42it/s]\n",
            "               Class      Images      Labels           P           R      mAP@.5  mAP@.5:.95: 100%|██████████| 4/4 [00:00<00:00,  5.81it/s]\n"
          ]
        },
        {
          "output_type": "stream",
          "name": "stdout",
          "text": [
            "                 all          99         117     0.00714      0.0513     0.00166    0.000293\n"
          ]
        },
        {
          "output_type": "stream",
          "name": "stderr",
          "text": [
            "     25/79     9.52G   0.04284  0.004588         0   0.04743        27       384: 100%|██████████| 49/49 [00:20<00:00,  2.37it/s]\n",
            "               Class      Images      Labels           P           R      mAP@.5  mAP@.5:.95: 100%|██████████| 4/4 [00:00<00:00,  6.23it/s]\n"
          ]
        },
        {
          "output_type": "stream",
          "name": "stdout",
          "text": [
            "                 all          99         117      0.0077      0.0855     0.00327    0.000568\n"
          ]
        },
        {
          "output_type": "stream",
          "name": "stderr",
          "text": [
            "     26/79     9.52G   0.04465  0.004616         0   0.04926        26       384: 100%|██████████| 49/49 [00:20<00:00,  2.44it/s]\n",
            "               Class      Images      Labels           P           R      mAP@.5  mAP@.5:.95: 100%|██████████| 4/4 [00:00<00:00,  6.41it/s]\n"
          ]
        },
        {
          "output_type": "stream",
          "name": "stdout",
          "text": [
            "                 all          99         117      0.0038      0.0342     0.00105    0.000181\n"
          ]
        },
        {
          "output_type": "stream",
          "name": "stderr",
          "text": [
            "     27/79     9.52G   0.04395  0.004647         0    0.0486        36       384: 100%|██████████| 49/49 [00:20<00:00,  2.43it/s]\n",
            "               Class      Images      Labels           P           R      mAP@.5  mAP@.5:.95: 100%|██████████| 4/4 [00:00<00:00,  6.24it/s]\n"
          ]
        },
        {
          "output_type": "stream",
          "name": "stdout",
          "text": [
            "                 all          99         117      0.0315      0.0171     0.00276    0.000447\n"
          ]
        },
        {
          "output_type": "stream",
          "name": "stderr",
          "text": [
            "     28/79     9.52G   0.04456   0.00464         0    0.0492        32       384: 100%|██████████| 49/49 [00:20<00:00,  2.43it/s]\n",
            "               Class      Images      Labels           P           R      mAP@.5  mAP@.5:.95: 100%|██████████| 4/4 [00:00<00:00,  6.47it/s]\n"
          ]
        },
        {
          "output_type": "stream",
          "name": "stdout",
          "text": [
            "                 all          99         117     0.00462       0.111    0.000869    0.000146\n"
          ]
        },
        {
          "output_type": "stream",
          "name": "stderr",
          "text": [
            "     29/79     9.52G   0.04468  0.004449         0   0.04913        19       384: 100%|██████████| 49/49 [00:20<00:00,  2.42it/s]\n",
            "               Class      Images      Labels           P           R      mAP@.5  mAP@.5:.95: 100%|██████████| 4/4 [00:00<00:00,  5.79it/s]\n"
          ]
        },
        {
          "output_type": "stream",
          "name": "stdout",
          "text": [
            "                 all          99         117     0.00151       0.094    0.000293    4.91e-05\n"
          ]
        },
        {
          "output_type": "stream",
          "name": "stderr",
          "text": [
            "     30/79     9.52G     0.043   0.00465         0   0.04765        36       384: 100%|██████████| 49/49 [00:20<00:00,  2.39it/s]\n",
            "               Class      Images      Labels           P           R      mAP@.5  mAP@.5:.95: 100%|██████████| 4/4 [00:00<00:00,  5.85it/s]\n"
          ]
        },
        {
          "output_type": "stream",
          "name": "stdout",
          "text": [
            "                 all          99         117      0.0309      0.0427      0.0068     0.00127\n"
          ]
        },
        {
          "output_type": "stream",
          "name": "stderr",
          "text": [
            "     31/79     9.52G   0.04561  0.004394         0   0.05001        29       384: 100%|██████████| 49/49 [00:20<00:00,  2.43it/s]\n",
            "               Class      Images      Labels           P           R      mAP@.5  mAP@.5:.95: 100%|██████████| 4/4 [00:00<00:00,  6.03it/s]\n"
          ]
        },
        {
          "output_type": "stream",
          "name": "stdout",
          "text": [
            "                 all          99         117     0.00533       0.145     0.00218    0.000297\n"
          ]
        },
        {
          "output_type": "stream",
          "name": "stderr",
          "text": [
            "     32/79     9.52G   0.04291  0.004685         0    0.0476        22       384: 100%|██████████| 49/49 [00:20<00:00,  2.43it/s]\n",
            "               Class      Images      Labels           P           R      mAP@.5  mAP@.5:.95: 100%|██████████| 4/4 [00:00<00:00,  6.15it/s]\n"
          ]
        },
        {
          "output_type": "stream",
          "name": "stdout",
          "text": [
            "                 all          99         117     0.00929      0.0598     0.00398    0.000558\n"
          ]
        },
        {
          "output_type": "stream",
          "name": "stderr",
          "text": [
            "     33/79     9.52G   0.04287  0.004329         0    0.0472        22       384: 100%|██████████| 49/49 [00:20<00:00,  2.41it/s]\n",
            "               Class      Images      Labels           P           R      mAP@.5  mAP@.5:.95: 100%|██████████| 4/4 [00:00<00:00,  6.24it/s]\n"
          ]
        },
        {
          "output_type": "stream",
          "name": "stdout",
          "text": [
            "                 all          99         117    0.000672       0.094    8.72e-05    1.48e-05\n"
          ]
        },
        {
          "output_type": "stream",
          "name": "stderr",
          "text": [
            "     34/79     9.52G   0.04426  0.004168         0   0.04843        25       384: 100%|██████████| 49/49 [00:20<00:00,  2.42it/s]\n",
            "               Class      Images      Labels           P           R      mAP@.5  mAP@.5:.95: 100%|██████████| 4/4 [00:00<00:00,  6.38it/s]\n"
          ]
        },
        {
          "output_type": "stream",
          "name": "stdout",
          "text": [
            "                 all          99         117      0.0119       0.154     0.00695     0.00115\n"
          ]
        },
        {
          "output_type": "stream",
          "name": "stderr",
          "text": [
            "     35/79     9.52G   0.04424  0.004572         0   0.04881        28       384: 100%|██████████| 49/49 [00:20<00:00,  2.41it/s]\n",
            "               Class      Images      Labels           P           R      mAP@.5  mAP@.5:.95: 100%|██████████| 4/4 [00:00<00:00,  6.08it/s]\n"
          ]
        },
        {
          "output_type": "stream",
          "name": "stdout",
          "text": [
            "                 all          99         117       0.015      0.0256     0.00463    0.000814\n"
          ]
        },
        {
          "output_type": "stream",
          "name": "stderr",
          "text": [
            "     36/79     9.52G   0.04228  0.004665         0   0.04694        28       384: 100%|██████████| 49/49 [00:20<00:00,  2.39it/s]\n",
            "               Class      Images      Labels           P           R      mAP@.5  mAP@.5:.95: 100%|██████████| 4/4 [00:00<00:00,  6.05it/s]\n"
          ]
        },
        {
          "output_type": "stream",
          "name": "stdout",
          "text": [
            "                 all          99         117      0.0232      0.0342     0.00395    0.000691\n"
          ]
        },
        {
          "output_type": "stream",
          "name": "stderr",
          "text": [
            "     37/79     9.52G   0.04452  0.004527         0   0.04905        25       384: 100%|██████████| 49/49 [00:19<00:00,  2.45it/s]\n",
            "               Class      Images      Labels           P           R      mAP@.5  mAP@.5:.95: 100%|██████████| 4/4 [00:00<00:00,  6.45it/s]\n"
          ]
        },
        {
          "output_type": "stream",
          "name": "stdout",
          "text": [
            "                 all          99         117      0.0121       0.103     0.00448    0.000708\n"
          ]
        },
        {
          "output_type": "stream",
          "name": "stderr",
          "text": [
            "     38/79     9.52G   0.04636  0.004462         0   0.05082        31       384: 100%|██████████| 49/49 [00:20<00:00,  2.43it/s]\n",
            "               Class      Images      Labels           P           R      mAP@.5  mAP@.5:.95: 100%|██████████| 4/4 [00:00<00:00,  5.84it/s]\n"
          ]
        },
        {
          "output_type": "stream",
          "name": "stdout",
          "text": [
            "                 all          99         117       0.674     0.00855     0.00545      0.0011\n"
          ]
        },
        {
          "output_type": "stream",
          "name": "stderr",
          "text": [
            "     39/79     9.52G   0.04554   0.00454         0   0.05008        41       384: 100%|██████████| 49/49 [00:20<00:00,  2.39it/s]\n",
            "               Class      Images      Labels           P           R      mAP@.5  mAP@.5:.95: 100%|██████████| 4/4 [00:00<00:00,  6.55it/s]\n"
          ]
        },
        {
          "output_type": "stream",
          "name": "stdout",
          "text": [
            "                 all          99         117     0.00377     0.00855    0.000958     0.00016\n"
          ]
        },
        {
          "output_type": "stream",
          "name": "stderr",
          "text": [
            "     40/79     9.52G   0.04456  0.004346         0   0.04891        28       384: 100%|██████████| 49/49 [00:19<00:00,  2.47it/s]\n",
            "               Class      Images      Labels           P           R      mAP@.5  mAP@.5:.95: 100%|██████████| 4/4 [00:00<00:00,  6.08it/s]\n"
          ]
        },
        {
          "output_type": "stream",
          "name": "stdout",
          "text": [
            "                 all          99         117      0.0128      0.0598     0.00646     0.00131\n"
          ]
        },
        {
          "output_type": "stream",
          "name": "stderr",
          "text": [
            "     41/79     9.52G   0.04131  0.004468         0   0.04577        30       384: 100%|██████████| 49/49 [00:19<00:00,  2.48it/s]\n",
            "               Class      Images      Labels           P           R      mAP@.5  mAP@.5:.95: 100%|██████████| 4/4 [00:00<00:00,  6.14it/s]\n"
          ]
        },
        {
          "output_type": "stream",
          "name": "stdout",
          "text": [
            "                 all          99         117       0.019      0.0684      0.0072     0.00156\n"
          ]
        },
        {
          "output_type": "stream",
          "name": "stderr",
          "text": [
            "     42/79     9.52G   0.04554  0.004712         0   0.05025        25       384: 100%|██████████| 49/49 [00:20<00:00,  2.42it/s]\n",
            "               Class      Images      Labels           P           R      mAP@.5  mAP@.5:.95: 100%|██████████| 4/4 [00:00<00:00,  6.16it/s]\n"
          ]
        },
        {
          "output_type": "stream",
          "name": "stdout",
          "text": [
            "                 all          99         117      0.0182      0.0342      0.0063      0.0013\n"
          ]
        },
        {
          "output_type": "stream",
          "name": "stderr",
          "text": [
            "     43/79     9.52G   0.04353  0.004625         0   0.04816        38       384: 100%|██████████| 49/49 [00:20<00:00,  2.43it/s]\n",
            "               Class      Images      Labels           P           R      mAP@.5  mAP@.5:.95: 100%|██████████| 4/4 [00:00<00:00,  6.34it/s]\n"
          ]
        },
        {
          "output_type": "stream",
          "name": "stdout",
          "text": [
            "                 all          99         117      0.0633      0.0513      0.0106      0.0017\n"
          ]
        },
        {
          "output_type": "stream",
          "name": "stderr",
          "text": [
            "     44/79     9.52G   0.04276  0.004562         0   0.04732        13       384: 100%|██████████| 49/49 [00:20<00:00,  2.43it/s]\n",
            "               Class      Images      Labels           P           R      mAP@.5  mAP@.5:.95: 100%|██████████| 4/4 [00:00<00:00,  6.27it/s]\n"
          ]
        },
        {
          "output_type": "stream",
          "name": "stdout",
          "text": [
            "                 all          99         117     0.00287        0.12     0.00103    0.000177\n"
          ]
        },
        {
          "output_type": "stream",
          "name": "stderr",
          "text": [
            "     45/79     9.52G   0.04761  0.004732         0   0.05235        25       384: 100%|██████████| 49/49 [00:20<00:00,  2.44it/s]\n",
            "               Class      Images      Labels           P           R      mAP@.5  mAP@.5:.95: 100%|██████████| 4/4 [00:00<00:00,  6.06it/s]\n"
          ]
        },
        {
          "output_type": "stream",
          "name": "stdout",
          "text": [
            "                 all          99         117      0.0148       0.111     0.00452    0.000936\n"
          ]
        },
        {
          "output_type": "stream",
          "name": "stderr",
          "text": [
            "     46/79     9.52G   0.04195  0.004372         0   0.04632        22       384: 100%|██████████| 49/49 [00:19<00:00,  2.49it/s]\n",
            "               Class      Images      Labels           P           R      mAP@.5  mAP@.5:.95: 100%|██████████| 4/4 [00:00<00:00,  6.19it/s]\n"
          ]
        },
        {
          "output_type": "stream",
          "name": "stdout",
          "text": [
            "                 all          99         117      0.0155      0.0684     0.00415    0.000899\n"
          ]
        },
        {
          "output_type": "stream",
          "name": "stderr",
          "text": [
            "     47/79     9.52G    0.0429  0.004352         0   0.04725        16       384: 100%|██████████| 49/49 [00:19<00:00,  2.47it/s]\n",
            "               Class      Images      Labels           P           R      mAP@.5  mAP@.5:.95: 100%|██████████| 4/4 [00:00<00:00,  6.46it/s]\n"
          ]
        },
        {
          "output_type": "stream",
          "name": "stdout",
          "text": [
            "                 all          99         117      0.0137       0.171      0.0044    0.000772\n"
          ]
        },
        {
          "output_type": "stream",
          "name": "stderr",
          "text": [
            "     48/79     9.52G   0.04158  0.004595         0   0.04617        34       384: 100%|██████████| 49/49 [00:20<00:00,  2.41it/s]\n",
            "               Class      Images      Labels           P           R      mAP@.5  mAP@.5:.95: 100%|██████████| 4/4 [00:00<00:00,  6.11it/s]\n"
          ]
        },
        {
          "output_type": "stream",
          "name": "stdout",
          "text": [
            "                 all          99         117      0.0218      0.0855     0.00676     0.00144\n"
          ]
        },
        {
          "output_type": "stream",
          "name": "stderr",
          "text": [
            "     49/79     9.52G    0.0439  0.004435         0   0.04834        18       384: 100%|██████████| 49/49 [00:19<00:00,  2.48it/s]\n",
            "               Class      Images      Labels           P           R      mAP@.5  mAP@.5:.95: 100%|██████████| 4/4 [00:00<00:00,  6.27it/s]\n"
          ]
        },
        {
          "output_type": "stream",
          "name": "stdout",
          "text": [
            "                 all          99         117      0.0407      0.0427     0.00672     0.00133\n"
          ]
        },
        {
          "output_type": "stream",
          "name": "stderr",
          "text": [
            "     50/79     9.52G    0.0417  0.004461         0   0.04617        29       384: 100%|██████████| 49/49 [00:19<00:00,  2.46it/s]\n",
            "               Class      Images      Labels           P           R      mAP@.5  mAP@.5:.95: 100%|██████████| 4/4 [00:00<00:00,  6.26it/s]\n"
          ]
        },
        {
          "output_type": "stream",
          "name": "stdout",
          "text": [
            "                 all          99         117      0.0383      0.0769     0.00805     0.00151\n"
          ]
        },
        {
          "output_type": "stream",
          "name": "stderr",
          "text": [
            "     51/79     9.52G    0.0425  0.004507         0   0.04701        24       384: 100%|██████████| 49/49 [00:20<00:00,  2.41it/s]\n",
            "               Class      Images      Labels           P           R      mAP@.5  mAP@.5:.95: 100%|██████████| 4/4 [00:00<00:00,  6.40it/s]\n"
          ]
        },
        {
          "output_type": "stream",
          "name": "stdout",
          "text": [
            "                 all          99         117      0.0195       0.094     0.00787     0.00171\n"
          ]
        },
        {
          "output_type": "stream",
          "name": "stderr",
          "text": [
            "     52/79     9.52G   0.04294   0.00434         0   0.04728        23       384: 100%|██████████| 49/49 [00:19<00:00,  2.47it/s]\n",
            "               Class      Images      Labels           P           R      mAP@.5  mAP@.5:.95: 100%|██████████| 4/4 [00:00<00:00,  6.41it/s]\n"
          ]
        },
        {
          "output_type": "stream",
          "name": "stdout",
          "text": [
            "                 all          99         117      0.0302      0.0684     0.00848     0.00182\n"
          ]
        },
        {
          "output_type": "stream",
          "name": "stderr",
          "text": [
            "     53/79     9.52G   0.04195  0.004449         0    0.0464        28       384: 100%|██████████| 49/49 [00:20<00:00,  2.42it/s]\n",
            "               Class      Images      Labels           P           R      mAP@.5  mAP@.5:.95: 100%|██████████| 4/4 [00:00<00:00,  6.27it/s]\n"
          ]
        },
        {
          "output_type": "stream",
          "name": "stdout",
          "text": [
            "                 all          99         117      0.0224       0.162     0.00962     0.00196\n"
          ]
        },
        {
          "output_type": "stream",
          "name": "stderr",
          "text": [
            "     54/79     9.52G   0.04168  0.004515         0   0.04619        28       384: 100%|██████████| 49/49 [00:20<00:00,  2.43it/s]\n",
            "               Class      Images      Labels           P           R      mAP@.5  mAP@.5:.95: 100%|██████████| 4/4 [00:00<00:00,  6.52it/s]\n"
          ]
        },
        {
          "output_type": "stream",
          "name": "stdout",
          "text": [
            "                 all          99         117      0.0514      0.0855      0.0134     0.00279\n"
          ]
        },
        {
          "output_type": "stream",
          "name": "stderr",
          "text": [
            "     55/79     9.52G   0.04191  0.004143         0   0.04605        27       384: 100%|██████████| 49/49 [00:20<00:00,  2.43it/s]\n",
            "               Class      Images      Labels           P           R      mAP@.5  mAP@.5:.95: 100%|██████████| 4/4 [00:00<00:00,  6.17it/s]\n"
          ]
        },
        {
          "output_type": "stream",
          "name": "stdout",
          "text": [
            "                 all          99         117      0.0495      0.0855      0.0156     0.00301\n"
          ]
        },
        {
          "output_type": "stream",
          "name": "stderr",
          "text": [
            "     56/79     9.52G   0.04415  0.004365         0   0.04851        38       384: 100%|██████████| 49/49 [00:20<00:00,  2.44it/s]\n",
            "               Class      Images      Labels           P           R      mAP@.5  mAP@.5:.95: 100%|██████████| 4/4 [00:00<00:00,  6.20it/s]\n"
          ]
        },
        {
          "output_type": "stream",
          "name": "stdout",
          "text": [
            "                 all          99         117      0.0448      0.0769      0.0113      0.0025\n"
          ]
        },
        {
          "output_type": "stream",
          "name": "stderr",
          "text": [
            "     57/79     9.52G   0.04172  0.004448         0   0.04617        27       384: 100%|██████████| 49/49 [00:20<00:00,  2.40it/s]\n",
            "               Class      Images      Labels           P           R      mAP@.5  mAP@.5:.95: 100%|██████████| 4/4 [00:00<00:00,  6.39it/s]\n"
          ]
        },
        {
          "output_type": "stream",
          "name": "stdout",
          "text": [
            "                 all          99         117      0.0371       0.145      0.0123      0.0031\n"
          ]
        },
        {
          "output_type": "stream",
          "name": "stderr",
          "text": [
            "     58/79     9.52G   0.04006  0.004535         0    0.0446        25       384: 100%|██████████| 49/49 [00:20<00:00,  2.42it/s]\n",
            "               Class      Images      Labels           P           R      mAP@.5  mAP@.5:.95: 100%|██████████| 4/4 [00:00<00:00,  6.16it/s]\n"
          ]
        },
        {
          "output_type": "stream",
          "name": "stdout",
          "text": [
            "                 all          99         117      0.0599      0.0769      0.0157     0.00315\n"
          ]
        },
        {
          "output_type": "stream",
          "name": "stderr",
          "text": [
            "     59/79     9.52G   0.04189  0.004397         0   0.04629        25       384: 100%|██████████| 49/49 [00:19<00:00,  2.45it/s]\n",
            "               Class      Images      Labels           P           R      mAP@.5  mAP@.5:.95: 100%|██████████| 4/4 [00:00<00:00,  6.19it/s]\n"
          ]
        },
        {
          "output_type": "stream",
          "name": "stdout",
          "text": [
            "                 all          99         117      0.0659      0.0769      0.0161      0.0041\n"
          ]
        },
        {
          "output_type": "stream",
          "name": "stderr",
          "text": [
            "     60/79     9.52G   0.03981  0.004543         0   0.04435        41       384: 100%|██████████| 49/49 [00:20<00:00,  2.42it/s]\n",
            "               Class      Images      Labels           P           R      mAP@.5  mAP@.5:.95: 100%|██████████| 4/4 [00:00<00:00,  6.32it/s]\n"
          ]
        },
        {
          "output_type": "stream",
          "name": "stdout",
          "text": [
            "                 all          99         117      0.0588       0.111      0.0208     0.00552\n"
          ]
        },
        {
          "output_type": "stream",
          "name": "stderr",
          "text": [
            "     61/79     9.52G   0.04091  0.004451         0   0.04536        38       384: 100%|██████████| 49/49 [00:20<00:00,  2.45it/s]\n",
            "               Class      Images      Labels           P           R      mAP@.5  mAP@.5:.95: 100%|██████████| 4/4 [00:00<00:00,  6.24it/s]\n"
          ]
        },
        {
          "output_type": "stream",
          "name": "stdout",
          "text": [
            "                 all          99         117      0.0616       0.111      0.0166     0.00363\n"
          ]
        },
        {
          "output_type": "stream",
          "name": "stderr",
          "text": [
            "     62/79     9.52G   0.03989  0.004363         0   0.04425        29       384: 100%|██████████| 49/49 [00:20<00:00,  2.42it/s]\n",
            "               Class      Images      Labels           P           R      mAP@.5  mAP@.5:.95: 100%|██████████| 4/4 [00:00<00:00,  6.09it/s]\n"
          ]
        },
        {
          "output_type": "stream",
          "name": "stdout",
          "text": [
            "                 all          99         117      0.0501       0.137      0.0153     0.00366\n"
          ]
        },
        {
          "output_type": "stream",
          "name": "stderr",
          "text": [
            "     63/79     9.52G   0.04115  0.004449         0   0.04559        26       384: 100%|██████████| 49/49 [00:20<00:00,  2.42it/s]\n",
            "               Class      Images      Labels           P           R      mAP@.5  mAP@.5:.95: 100%|██████████| 4/4 [00:00<00:00,  6.37it/s]\n"
          ]
        },
        {
          "output_type": "stream",
          "name": "stdout",
          "text": [
            "                 all          99         117      0.0595       0.111      0.0213     0.00503\n"
          ]
        },
        {
          "output_type": "stream",
          "name": "stderr",
          "text": [
            "     64/79     9.52G   0.04124  0.004356         0   0.04559        28       384: 100%|██████████| 49/49 [00:20<00:00,  2.40it/s]\n",
            "               Class      Images      Labels           P           R      mAP@.5  mAP@.5:.95: 100%|██████████| 4/4 [00:00<00:00,  6.03it/s]\n"
          ]
        },
        {
          "output_type": "stream",
          "name": "stdout",
          "text": [
            "                 all          99         117      0.0538       0.128      0.0158     0.00344\n"
          ]
        },
        {
          "output_type": "stream",
          "name": "stderr",
          "text": [
            "     65/79     9.52G   0.03988  0.004451         0   0.04433        30       384: 100%|██████████| 49/49 [00:20<00:00,  2.44it/s]\n",
            "               Class      Images      Labels           P           R      mAP@.5  mAP@.5:.95: 100%|██████████| 4/4 [00:00<00:00,  5.97it/s]\n"
          ]
        },
        {
          "output_type": "stream",
          "name": "stdout",
          "text": [
            "                 all          99         117      0.0455       0.094      0.0105     0.00249\n"
          ]
        },
        {
          "output_type": "stream",
          "name": "stderr",
          "text": [
            "     66/79     9.52G   0.03958  0.004463         0   0.04405        29       384: 100%|██████████| 49/49 [00:20<00:00,  2.40it/s]\n",
            "               Class      Images      Labels           P           R      mAP@.5  mAP@.5:.95: 100%|██████████| 4/4 [00:00<00:00,  6.30it/s]\n"
          ]
        },
        {
          "output_type": "stream",
          "name": "stdout",
          "text": [
            "                 all          99         117      0.0647       0.162      0.0221     0.00509\n"
          ]
        },
        {
          "output_type": "stream",
          "name": "stderr",
          "text": [
            "     67/79     9.52G   0.04075  0.004422         0   0.04517        29       384: 100%|██████████| 49/49 [00:20<00:00,  2.45it/s]\n",
            "               Class      Images      Labels           P           R      mAP@.5  mAP@.5:.95: 100%|██████████| 4/4 [00:00<00:00,  6.37it/s]\n"
          ]
        },
        {
          "output_type": "stream",
          "name": "stdout",
          "text": [
            "                 all          99         117       0.103      0.0596      0.0227     0.00664\n"
          ]
        },
        {
          "output_type": "stream",
          "name": "stderr",
          "text": [
            "     68/79     9.52G   0.04015  0.004708         0   0.04486        31       384: 100%|██████████| 49/49 [00:20<00:00,  2.39it/s]\n",
            "               Class      Images      Labels           P           R      mAP@.5  mAP@.5:.95: 100%|██████████| 4/4 [00:00<00:00,  6.40it/s]\n"
          ]
        },
        {
          "output_type": "stream",
          "name": "stdout",
          "text": [
            "                 all          99         117      0.0811      0.0855      0.0273     0.00577\n"
          ]
        },
        {
          "output_type": "stream",
          "name": "stderr",
          "text": [
            "     69/79     9.52G   0.04161  0.004588         0    0.0462        43       384: 100%|██████████| 49/49 [00:20<00:00,  2.40it/s]\n",
            "               Class      Images      Labels           P           R      mAP@.5  mAP@.5:.95: 100%|██████████| 4/4 [00:00<00:00,  6.07it/s]\n"
          ]
        },
        {
          "output_type": "stream",
          "name": "stdout",
          "text": [
            "                 all          99         117        0.11       0.094      0.0331     0.00774\n"
          ]
        },
        {
          "output_type": "stream",
          "name": "stderr",
          "text": [
            "     70/79     9.52G   0.03994  0.004541         0   0.04448        29       384: 100%|██████████| 49/49 [00:20<00:00,  2.42it/s]\n",
            "               Class      Images      Labels           P           R      mAP@.5  mAP@.5:.95: 100%|██████████| 4/4 [00:00<00:00,  6.35it/s]\n"
          ]
        },
        {
          "output_type": "stream",
          "name": "stdout",
          "text": [
            "                 all          99         117       0.115       0.103      0.0315     0.00705\n"
          ]
        },
        {
          "output_type": "stream",
          "name": "stderr",
          "text": [
            "     71/79     9.52G   0.03825  0.004422         0   0.04267        28       384: 100%|██████████| 49/49 [00:20<00:00,  2.41it/s]\n",
            "               Class      Images      Labels           P           R      mAP@.5  mAP@.5:.95: 100%|██████████| 4/4 [00:00<00:00,  6.01it/s]\n"
          ]
        },
        {
          "output_type": "stream",
          "name": "stdout",
          "text": [
            "                 all          99         117       0.156      0.0769       0.025     0.00686\n"
          ]
        },
        {
          "output_type": "stream",
          "name": "stderr",
          "text": [
            "     72/79     9.52G   0.03915  0.004611         0   0.04376        36       384: 100%|██████████| 49/49 [00:20<00:00,  2.44it/s]\n",
            "               Class      Images      Labels           P           R      mAP@.5  mAP@.5:.95: 100%|██████████| 4/4 [00:00<00:00,  6.08it/s]\n"
          ]
        },
        {
          "output_type": "stream",
          "name": "stdout",
          "text": [
            "                 all          99         117      0.0786       0.094      0.0199     0.00533\n"
          ]
        },
        {
          "output_type": "stream",
          "name": "stderr",
          "text": [
            "     73/79     9.52G   0.03818  0.004642         0   0.04283        21       384: 100%|██████████| 49/49 [00:20<00:00,  2.39it/s]\n",
            "               Class      Images      Labels           P           R      mAP@.5  mAP@.5:.95: 100%|██████████| 4/4 [00:00<00:00,  6.33it/s]\n"
          ]
        },
        {
          "output_type": "stream",
          "name": "stdout",
          "text": [
            "                 all          99         117      0.0726       0.159      0.0315     0.00825\n"
          ]
        },
        {
          "output_type": "stream",
          "name": "stderr",
          "text": [
            "     74/79     9.52G    0.0386   0.00464         0   0.04324        24       384: 100%|██████████| 49/49 [00:20<00:00,  2.41it/s]\n",
            "               Class      Images      Labels           P           R      mAP@.5  mAP@.5:.95: 100%|██████████| 4/4 [00:00<00:00,  6.22it/s]\n"
          ]
        },
        {
          "output_type": "stream",
          "name": "stdout",
          "text": [
            "                 all          99         117      0.0979      0.0928      0.0291     0.00672\n"
          ]
        },
        {
          "output_type": "stream",
          "name": "stderr",
          "text": [
            "     75/79     9.52G    0.0395  0.004511         0   0.04401        36       384: 100%|██████████| 49/49 [00:20<00:00,  2.40it/s]\n",
            "               Class      Images      Labels           P           R      mAP@.5  mAP@.5:.95: 100%|██████████| 4/4 [00:00<00:00,  6.12it/s]\n"
          ]
        },
        {
          "output_type": "stream",
          "name": "stdout",
          "text": [
            "                 all          99         117      0.0972       0.127      0.0359      0.0105\n"
          ]
        },
        {
          "output_type": "stream",
          "name": "stderr",
          "text": [
            "     76/79     9.52G   0.03917  0.004631         0    0.0438        27       384: 100%|██████████| 49/49 [00:20<00:00,  2.42it/s]\n",
            "               Class      Images      Labels           P           R      mAP@.5  mAP@.5:.95: 100%|██████████| 4/4 [00:00<00:00,  6.31it/s]\n"
          ]
        },
        {
          "output_type": "stream",
          "name": "stdout",
          "text": [
            "                 all          99         117      0.0706       0.171      0.0318     0.00877\n"
          ]
        },
        {
          "output_type": "stream",
          "name": "stderr",
          "text": [
            "     77/79     9.52G   0.03884  0.004577         0   0.04342        32       384: 100%|██████████| 49/49 [00:20<00:00,  2.39it/s]\n",
            "               Class      Images      Labels           P           R      mAP@.5  mAP@.5:.95: 100%|██████████| 4/4 [00:00<00:00,  6.34it/s]\n"
          ]
        },
        {
          "output_type": "stream",
          "name": "stdout",
          "text": [
            "                 all          99         117       0.142      0.0855      0.0471      0.0117\n"
          ]
        },
        {
          "output_type": "stream",
          "name": "stderr",
          "text": [
            "     78/79     9.52G   0.04153   0.00456         0   0.04609        31       384: 100%|██████████| 49/49 [00:20<00:00,  2.43it/s]\n",
            "               Class      Images      Labels           P           R      mAP@.5  mAP@.5:.95: 100%|██████████| 4/4 [00:00<00:00,  6.32it/s]\n"
          ]
        },
        {
          "output_type": "stream",
          "name": "stdout",
          "text": [
            "                 all          99         117       0.111       0.111      0.0437      0.0121\n"
          ]
        },
        {
          "output_type": "stream",
          "name": "stderr",
          "text": [
            "     79/79     9.52G   0.03954  0.004402         0   0.04394        12       384: 100%|██████████| 49/49 [00:20<00:00,  2.41it/s]\n",
            "               Class      Images      Labels           P           R      mAP@.5  mAP@.5:.95: 100%|██████████| 4/4 [00:01<00:00,  2.79it/s]\n"
          ]
        },
        {
          "output_type": "stream",
          "name": "stdout",
          "text": [
            "                 all          99         117       0.125       0.111      0.0506      0.0119\n",
            "Optimizer stripped from runs/train/exp/weights/last.pt, 330.7MB\n",
            "Optimizer stripped from runs/train/exp/weights/best.pt, 330.7MB\n"
          ]
        }
      ]
    },
    {
      "cell_type": "code",
      "source": [
        "import locale\n",
        "locale.getpreferredencoding = lambda: \"UTF-8\""
      ],
      "metadata": {
        "id": "v63QpZmSjxXC"
      },
      "execution_count": 4,
      "outputs": []
    },
    {
      "cell_type": "code",
      "source": [
        "from google.colab import files\n",
        "files.download('runs')"
      ],
      "metadata": {
        "colab": {
          "base_uri": "https://localhost:8080/",
          "height": 34
        },
        "id": "HiaiAONNj73A",
        "outputId": "67d069f4-5d24-47a1-9065-308d8d83c22e"
      },
      "execution_count": 19,
      "outputs": [
        {
          "output_type": "display_data",
          "data": {
            "text/plain": [
              "<IPython.core.display.Javascript object>"
            ],
            "application/javascript": [
              "\n",
              "    async function download(id, filename, size) {\n",
              "      if (!google.colab.kernel.accessAllowed) {\n",
              "        return;\n",
              "      }\n",
              "      const div = document.createElement('div');\n",
              "      const label = document.createElement('label');\n",
              "      label.textContent = `Downloading \"${filename}\": `;\n",
              "      div.appendChild(label);\n",
              "      const progress = document.createElement('progress');\n",
              "      progress.max = size;\n",
              "      div.appendChild(progress);\n",
              "      document.body.appendChild(div);\n",
              "\n",
              "      const buffers = [];\n",
              "      let downloaded = 0;\n",
              "\n",
              "      const channel = await google.colab.kernel.comms.open(id);\n",
              "      // Send a message to notify the kernel that we're ready.\n",
              "      channel.send({})\n",
              "\n",
              "      for await (const message of channel.messages) {\n",
              "        // Send a message to notify the kernel that we're ready.\n",
              "        channel.send({})\n",
              "        if (message.buffers) {\n",
              "          for (const buffer of message.buffers) {\n",
              "            buffers.push(buffer);\n",
              "            downloaded += buffer.byteLength;\n",
              "            progress.value = downloaded;\n",
              "          }\n",
              "        }\n",
              "      }\n",
              "      const blob = new Blob(buffers, {type: 'application/binary'});\n",
              "      const a = document.createElement('a');\n",
              "      a.href = window.URL.createObjectURL(blob);\n",
              "      a.download = filename;\n",
              "      div.appendChild(a);\n",
              "      a.click();\n",
              "      div.remove();\n",
              "    }\n",
              "  "
            ]
          },
          "metadata": {}
        },
        {
          "output_type": "display_data",
          "data": {
            "text/plain": [
              "<IPython.core.display.Javascript object>"
            ],
            "application/javascript": [
              "download(\"download_a32cafab-70ff-4f95-b180-34b85d0423d6\", \"runs\", 4096)"
            ]
          },
          "metadata": {}
        }
      ]
    },
    {
      "cell_type": "code",
      "source": [
        "# !zip -r ./runs.zip ./runs\n",
        "# !cp ./runs.zip ./../../drive/MyDrive/colab_data\n",
        "# !cp -r ./training/yolov7/runs/ ./drive/MyDrive/colab_data/"
      ],
      "metadata": {
        "colab": {
          "base_uri": "https://localhost:8080/"
        },
        "id": "s9m_679JYaFk",
        "outputId": "fdf38c4c-49e1-4c06-ffa4-b6ae248561db"
      },
      "execution_count": 18,
      "outputs": [
        {
          "output_type": "stream",
          "name": "stdout",
          "text": [
            "  adding: runs/ (stored 0%)\n",
            "  adding: runs/train/ (stored 0%)\n",
            "  adding: runs/train/exp/ (stored 0%)\n",
            "  adding: runs/train/exp/test_batch2_labels.jpg (deflated 16%)\n",
            "  adding: runs/train/exp/opt.yaml (deflated 46%)\n",
            "  adding: runs/train/exp/train_batch9.jpg (deflated 11%)\n",
            "  adding: runs/train/exp/train_batch6.jpg (deflated 7%)\n",
            "  adding: runs/train/exp/train_batch5.jpg (deflated 8%)\n",
            "  adding: runs/train/exp/train_batch2.jpg (deflated 6%)\n",
            "  adding: runs/train/exp/train_batch1.jpg (deflated 8%)\n",
            "  adding: runs/train/exp/test_batch2_pred.jpg (deflated 18%)\n",
            "  adding: runs/train/exp/test_batch0_labels.jpg (deflated 20%)\n",
            "  adding: runs/train/exp/confusion_matrix.png (deflated 38%)\n",
            "  adding: runs/train/exp/P_curve.png (deflated 24%)\n",
            "  adding: runs/train/exp/PR_curve.png (deflated 29%)\n",
            "  adding: runs/train/exp/results.png (deflated 10%)\n",
            "  adding: runs/train/exp/test_batch1_pred.jpg (deflated 25%)\n",
            "  adding: runs/train/exp/test_batch1_labels.jpg (deflated 23%)\n",
            "  adding: runs/train/exp/train_batch4.jpg (deflated 6%)\n",
            "  adding: runs/train/exp/events.out.tfevents.1700092521.989069316a65.256.0 (deflated 71%)\n",
            "  adding: runs/train/exp/weights/ (stored 0%)\n",
            "  adding: runs/train/exp/weights/best.pt (deflated 8%)\n",
            "  adding: runs/train/exp/weights/epoch_074.pt (deflated 7%)\n",
            "  adding: runs/train/exp/weights/epoch_075.pt (deflated 7%)\n",
            "  adding: runs/train/exp/weights/epoch_079.pt (deflated 7%)\n",
            "  adding: runs/train/exp/weights/epoch_077.pt (deflated 7%)\n",
            "  adding: runs/train/exp/weights/init.pt\n",
            "\n",
            "\n",
            "zip error: Interrupted (aborting)\n",
            "cp: cannot stat './runs.zip': No such file or directory\n"
          ]
        }
      ]
    },
    {
      "cell_type": "code",
      "source": [],
      "metadata": {
        "id": "P1IdkqICZo3P"
      },
      "execution_count": null,
      "outputs": []
    }
  ]
}